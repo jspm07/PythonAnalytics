{
 "cells": [
  {
   "cell_type": "code",
   "execution_count": 100,
   "metadata": {},
   "outputs": [],
   "source": [
    "#Importando las librerías necesarias\n",
    "import pandas as pd\n",
    "import numpy as np\n",
    "import matplotlib.pyplot as plt\n",
    "import seaborn as sns\n",
    "import pandas_profiling as pp"
   ]
  },
  {
   "cell_type": "code",
   "execution_count": 101,
   "metadata": {},
   "outputs": [
    {
     "data": {
      "text/plain": [
       "Index(['timestamp', 'company', 'level', 'title', 'totalyearlycompensation',\n",
       "       'location', 'yearsofexperience', 'yearsatcompany', 'tag', 'basesalary',\n",
       "       'stockgrantvalue', 'bonus', 'gender', 'otherdetails', 'cityid', 'dmaid',\n",
       "       'rowNumber', 'Masters_Degree', 'Bachelors_Degree', 'Doctorate_Degree',\n",
       "       'Highschool', 'Some_College', 'Race_Asian', 'Race_White',\n",
       "       'Race_Two_Or_More', 'Race_Black', 'Race_Hispanic', 'Race', 'Education'],\n",
       "      dtype='object')"
      ]
     },
     "execution_count": 101,
     "metadata": {},
     "output_type": "execute_result"
    }
   ],
   "source": [
    "#Leyendo la data\n",
    "df_salary = pd.read_csv('../data/Salary_data.csv')\n",
    "df_salary.columns #Observamos los nombres de sus columnas"
   ]
  },
  {
   "cell_type": "code",
   "execution_count": 102,
   "metadata": {},
   "outputs": [
    {
     "data": {
      "text/plain": [
       "array([nan, 'PhD', \"Master's Degree\", \"Bachelor's Degree\", 'Some College',\n",
       "       'Highschool'], dtype=object)"
      ]
     },
     "execution_count": 102,
     "metadata": {},
     "output_type": "execute_result"
    }
   ],
   "source": [
    "df_salary.Education.unique()"
   ]
  },
  {
   "cell_type": "code",
   "execution_count": 103,
   "metadata": {},
   "outputs": [],
   "source": [
    "#Seleccionamos las columnas con las que trabajaremos\n",
    "selected_columns = ['company','title','totalyearlycompensation','location','yearsofexperience','yearsatcompany','tag','basesalary','stockgrantvalue',\n",
    "                    'bonus','gender','Race','Education']"
   ]
  },
  {
   "cell_type": "code",
   "execution_count": 122,
   "metadata": {},
   "outputs": [
    {
     "data": {
      "text/plain": [
       "(62642, 13)"
      ]
     },
     "execution_count": 122,
     "metadata": {},
     "output_type": "execute_result"
    }
   ],
   "source": [
    "#Creamos una nueva tabla para trabajar con ella\n",
    "df = df_salary[selected_columns].copy()\n",
    "df.shape"
   ]
  },
  {
   "cell_type": "code",
   "execution_count": 105,
   "metadata": {},
   "outputs": [
    {
     "data": {
      "text/html": [
       "<div>\n",
       "<style scoped>\n",
       "    .dataframe tbody tr th:only-of-type {\n",
       "        vertical-align: middle;\n",
       "    }\n",
       "\n",
       "    .dataframe tbody tr th {\n",
       "        vertical-align: top;\n",
       "    }\n",
       "\n",
       "    .dataframe thead th {\n",
       "        text-align: right;\n",
       "    }\n",
       "</style>\n",
       "<table border=\"1\" class=\"dataframe\">\n",
       "  <thead>\n",
       "    <tr style=\"text-align: right;\">\n",
       "      <th></th>\n",
       "      <th>totalyearlycompensation</th>\n",
       "      <th>yearsofexperience</th>\n",
       "      <th>yearsatcompany</th>\n",
       "      <th>basesalary</th>\n",
       "      <th>stockgrantvalue</th>\n",
       "      <th>bonus</th>\n",
       "    </tr>\n",
       "  </thead>\n",
       "  <tbody>\n",
       "    <tr>\n",
       "      <th>count</th>\n",
       "      <td>6.264200e+04</td>\n",
       "      <td>62642.000000</td>\n",
       "      <td>62642.000000</td>\n",
       "      <td>6.264200e+04</td>\n",
       "      <td>6.264200e+04</td>\n",
       "      <td>62642.000000</td>\n",
       "    </tr>\n",
       "    <tr>\n",
       "      <th>mean</th>\n",
       "      <td>2.163004e+05</td>\n",
       "      <td>7.204135</td>\n",
       "      <td>2.702093</td>\n",
       "      <td>1.366873e+05</td>\n",
       "      <td>5.148608e+04</td>\n",
       "      <td>19334.746588</td>\n",
       "    </tr>\n",
       "    <tr>\n",
       "      <th>std</th>\n",
       "      <td>1.380337e+05</td>\n",
       "      <td>5.840375</td>\n",
       "      <td>3.263656</td>\n",
       "      <td>6.136928e+04</td>\n",
       "      <td>8.187457e+04</td>\n",
       "      <td>26781.292040</td>\n",
       "    </tr>\n",
       "    <tr>\n",
       "      <th>min</th>\n",
       "      <td>1.000000e+04</td>\n",
       "      <td>0.000000</td>\n",
       "      <td>0.000000</td>\n",
       "      <td>0.000000e+00</td>\n",
       "      <td>0.000000e+00</td>\n",
       "      <td>0.000000</td>\n",
       "    </tr>\n",
       "    <tr>\n",
       "      <th>25%</th>\n",
       "      <td>1.350000e+05</td>\n",
       "      <td>3.000000</td>\n",
       "      <td>0.000000</td>\n",
       "      <td>1.080000e+05</td>\n",
       "      <td>0.000000e+00</td>\n",
       "      <td>1000.000000</td>\n",
       "    </tr>\n",
       "    <tr>\n",
       "      <th>50%</th>\n",
       "      <td>1.880000e+05</td>\n",
       "      <td>6.000000</td>\n",
       "      <td>2.000000</td>\n",
       "      <td>1.400000e+05</td>\n",
       "      <td>2.500000e+04</td>\n",
       "      <td>14000.000000</td>\n",
       "    </tr>\n",
       "    <tr>\n",
       "      <th>75%</th>\n",
       "      <td>2.640000e+05</td>\n",
       "      <td>10.000000</td>\n",
       "      <td>4.000000</td>\n",
       "      <td>1.700000e+05</td>\n",
       "      <td>6.500000e+04</td>\n",
       "      <td>26000.000000</td>\n",
       "    </tr>\n",
       "    <tr>\n",
       "      <th>max</th>\n",
       "      <td>4.980000e+06</td>\n",
       "      <td>69.000000</td>\n",
       "      <td>69.000000</td>\n",
       "      <td>1.659870e+06</td>\n",
       "      <td>2.800000e+06</td>\n",
       "      <td>1000000.000000</td>\n",
       "    </tr>\n",
       "  </tbody>\n",
       "</table>\n",
       "</div>"
      ],
      "text/plain": [
       "       totalyearlycompensation  yearsofexperience  yearsatcompany  \\\n",
       "count             6.264200e+04       62642.000000    62642.000000   \n",
       "mean              2.163004e+05           7.204135        2.702093   \n",
       "std               1.380337e+05           5.840375        3.263656   \n",
       "min               1.000000e+04           0.000000        0.000000   \n",
       "25%               1.350000e+05           3.000000        0.000000   \n",
       "50%               1.880000e+05           6.000000        2.000000   \n",
       "75%               2.640000e+05          10.000000        4.000000   \n",
       "max               4.980000e+06          69.000000       69.000000   \n",
       "\n",
       "         basesalary  stockgrantvalue           bonus  \n",
       "count  6.264200e+04     6.264200e+04    62642.000000  \n",
       "mean   1.366873e+05     5.148608e+04    19334.746588  \n",
       "std    6.136928e+04     8.187457e+04    26781.292040  \n",
       "min    0.000000e+00     0.000000e+00        0.000000  \n",
       "25%    1.080000e+05     0.000000e+00     1000.000000  \n",
       "50%    1.400000e+05     2.500000e+04    14000.000000  \n",
       "75%    1.700000e+05     6.500000e+04    26000.000000  \n",
       "max    1.659870e+06     2.800000e+06  1000000.000000  "
      ]
     },
     "execution_count": 105,
     "metadata": {},
     "output_type": "execute_result"
    }
   ],
   "source": [
    "df.describe()"
   ]
  },
  {
   "cell_type": "code",
   "execution_count": 106,
   "metadata": {},
   "outputs": [
    {
     "data": {
      "text/plain": [
       "company                        5\n",
       "title                          0\n",
       "totalyearlycompensation        0\n",
       "location                       0\n",
       "yearsofexperience              0\n",
       "yearsatcompany                 0\n",
       "tag                          854\n",
       "basesalary                     0\n",
       "stockgrantvalue                0\n",
       "bonus                          0\n",
       "gender                     19540\n",
       "Race                       40215\n",
       "Education                  32272\n",
       "dtype: int64"
      ]
     },
     "execution_count": 106,
     "metadata": {},
     "output_type": "execute_result"
    }
   ],
   "source": [
    "df.isnull().sum()"
   ]
  },
  {
   "cell_type": "code",
   "execution_count": 125,
   "metadata": {},
   "outputs": [
    {
     "data": {
      "text/plain": [
       "company                    0\n",
       "title                      0\n",
       "totalyearlycompensation    0\n",
       "location                   0\n",
       "yearsofexperience          0\n",
       "yearsatcompany             0\n",
       "tag                        0\n",
       "basesalary                 0\n",
       "stockgrantvalue            0\n",
       "bonus                      0\n",
       "gender                     0\n",
       "Race                       0\n",
       "Education                  0\n",
       "dtype: int64"
      ]
     },
     "execution_count": 125,
     "metadata": {},
     "output_type": "execute_result"
    }
   ],
   "source": [
    "#Como obersvamos que los valores nulos se encuentran dentro de las columnas de tipo texto, les hacemos un filtro básico\n",
    "df_filtrado = df.fillna({'company':'No especificado','tag':'No especificado','gender':'No especificado','Race':'No especificado','Education':'No especificado',})\n",
    "df = df_filtrado\n",
    "df.isnull().sum()"
   ]
  },
  {
   "cell_type": "code",
   "execution_count": 108,
   "metadata": {},
   "outputs": [
    {
     "data": {
      "text/plain": [
       "<AxesSubplot:>"
      ]
     },
     "execution_count": 108,
     "metadata": {},
     "output_type": "execute_result"
    },
    {
     "data": {
      "image/png": "[encoded data removed]",
      "text/plain": [
       "<Figure size 432x288 with 1 Axes>"
      ]
     },
     "metadata": {
      "needs_background": "light"
     },
     "output_type": "display_data"
    }
   ],
   "source": [
    "df.boxplot('totalyearlycompensation') #Se observa un sesgo en cuanto a la recolección de datos, contamos con demasiados valores atípicos"
   ]
  },
  {
   "cell_type": "code",
   "execution_count": 109,
   "metadata": {},
   "outputs": [],
   "source": [
    "#new_df = df[df['totalyearlycompensation'].between(df['totalyearlycompensation'].quantile(.05),df['totalyearlycompensation'].quantile(.95))]"
   ]
  },
  {
   "cell_type": "code",
   "execution_count": 110,
   "metadata": {},
   "outputs": [
    {
     "data": {
      "text/plain": [
       "(Index(['totalyearlycompensation', 'yearsofexperience', 'yearsatcompany',\n",
       "        'basesalary', 'stockgrantvalue', 'bonus'],\n",
       "       dtype='object'),\n",
       " Index(['company', 'title', 'location', 'tag', 'gender', 'Race', 'Education'], dtype='object'))"
      ]
     },
     "execution_count": 110,
     "metadata": {},
     "output_type": "execute_result"
    }
   ],
   "source": [
    "#Agrupamos las columnas con sus respectivos valores (numéricos y textos)\n",
    "numeric_columns = df.select_dtypes(include=[float, int]).columns\n",
    "text_columns = df.select_dtypes(include=[object]).columns\n",
    "\n",
    "numeric_columns, text_columns"
   ]
  },
  {
   "cell_type": "code",
   "execution_count": 111,
   "metadata": {},
   "outputs": [],
   "source": [
    "#Con esta función encontramos el valor a partir del cual se considera outlier\n",
    "def find_max_value(df_column):\n",
    "    max_value = df_column.mean() + 3 * df_column.std()\n",
    "    return max_value\n",
    "#Con esta función creamos una columna de 1, 0 para saber si es outlier o no\n",
    "def find_outliers(x, max_value):\n",
    "    if x>max_value:\n",
    "        return 1 \n",
    "    else: return 0\n",
    "\n",
    "for column in numeric_columns:\n",
    "    max_value = find_max_value(df[column])\n",
    "    df[column+\"_outlier\"] = df[column].apply(lambda x: find_outliers(x, max_value))"
   ]
  },
  {
   "cell_type": "code",
   "execution_count": 112,
   "metadata": {},
   "outputs": [
    {
     "data": {
      "text/plain": [
       "['totalyearlycompensation_outlier',\n",
       " 'yearsofexperience_outlier',\n",
       " 'yearsatcompany_outlier',\n",
       " 'basesalary_outlier',\n",
       " 'stockgrantvalue_outlier',\n",
       " 'bonus_outlier']"
      ]
     },
     "execution_count": 112,
     "metadata": {},
     "output_type": "execute_result"
    }
   ],
   "source": [
    "outlier_columns = [column for column in df.columns if \"outlier\" in column]\n",
    "outlier_columns"
   ]
  },
  {
   "cell_type": "code",
   "execution_count": 113,
   "metadata": {},
   "outputs": [
    {
     "data": {
      "text/html": [
       "<div>\n",
       "<style scoped>\n",
       "    .dataframe tbody tr th:only-of-type {\n",
       "        vertical-align: middle;\n",
       "    }\n",
       "\n",
       "    .dataframe tbody tr th {\n",
       "        vertical-align: top;\n",
       "    }\n",
       "\n",
       "    .dataframe thead th {\n",
       "        text-align: right;\n",
       "    }\n",
       "</style>\n",
       "<table border=\"1\" class=\"dataframe\">\n",
       "  <thead>\n",
       "    <tr style=\"text-align: right;\">\n",
       "      <th></th>\n",
       "      <th>totalyearlycompensation_outlier</th>\n",
       "      <th>yearsofexperience_outlier</th>\n",
       "      <th>yearsatcompany_outlier</th>\n",
       "      <th>basesalary_outlier</th>\n",
       "      <th>stockgrantvalue_outlier</th>\n",
       "      <th>bonus_outlier</th>\n",
       "    </tr>\n",
       "  </thead>\n",
       "  <tbody>\n",
       "    <tr>\n",
       "      <th>count</th>\n",
       "      <td>62642.000000</td>\n",
       "      <td>62642.000000</td>\n",
       "      <td>62642.000000</td>\n",
       "      <td>62642.000000</td>\n",
       "      <td>62642.000000</td>\n",
       "      <td>62642.000000</td>\n",
       "    </tr>\n",
       "    <tr>\n",
       "      <th>mean</th>\n",
       "      <td>0.014750</td>\n",
       "      <td>0.012244</td>\n",
       "      <td>0.021359</td>\n",
       "      <td>0.005875</td>\n",
       "      <td>0.021822</td>\n",
       "      <td>0.016778</td>\n",
       "    </tr>\n",
       "    <tr>\n",
       "      <th>std</th>\n",
       "      <td>0.120553</td>\n",
       "      <td>0.109975</td>\n",
       "      <td>0.144581</td>\n",
       "      <td>0.076421</td>\n",
       "      <td>0.146105</td>\n",
       "      <td>0.128439</td>\n",
       "    </tr>\n",
       "    <tr>\n",
       "      <th>min</th>\n",
       "      <td>0.000000</td>\n",
       "      <td>0.000000</td>\n",
       "      <td>0.000000</td>\n",
       "      <td>0.000000</td>\n",
       "      <td>0.000000</td>\n",
       "      <td>0.000000</td>\n",
       "    </tr>\n",
       "    <tr>\n",
       "      <th>25%</th>\n",
       "      <td>0.000000</td>\n",
       "      <td>0.000000</td>\n",
       "      <td>0.000000</td>\n",
       "      <td>0.000000</td>\n",
       "      <td>0.000000</td>\n",
       "      <td>0.000000</td>\n",
       "    </tr>\n",
       "    <tr>\n",
       "      <th>50%</th>\n",
       "      <td>0.000000</td>\n",
       "      <td>0.000000</td>\n",
       "      <td>0.000000</td>\n",
       "      <td>0.000000</td>\n",
       "      <td>0.000000</td>\n",
       "      <td>0.000000</td>\n",
       "    </tr>\n",
       "    <tr>\n",
       "      <th>75%</th>\n",
       "      <td>0.000000</td>\n",
       "      <td>0.000000</td>\n",
       "      <td>0.000000</td>\n",
       "      <td>0.000000</td>\n",
       "      <td>0.000000</td>\n",
       "      <td>0.000000</td>\n",
       "    </tr>\n",
       "    <tr>\n",
       "      <th>max</th>\n",
       "      <td>1.000000</td>\n",
       "      <td>1.000000</td>\n",
       "      <td>1.000000</td>\n",
       "      <td>1.000000</td>\n",
       "      <td>1.000000</td>\n",
       "      <td>1.000000</td>\n",
       "    </tr>\n",
       "  </tbody>\n",
       "</table>\n",
       "</div>"
      ],
      "text/plain": [
       "       totalyearlycompensation_outlier  yearsofexperience_outlier  \\\n",
       "count                     62642.000000               62642.000000   \n",
       "mean                          0.014750                   0.012244   \n",
       "std                           0.120553                   0.109975   \n",
       "min                           0.000000                   0.000000   \n",
       "25%                           0.000000                   0.000000   \n",
       "50%                           0.000000                   0.000000   \n",
       "75%                           0.000000                   0.000000   \n",
       "max                           1.000000                   1.000000   \n",
       "\n",
       "       yearsatcompany_outlier  basesalary_outlier  stockgrantvalue_outlier  \\\n",
       "count            62642.000000        62642.000000             62642.000000   \n",
       "mean                 0.021359            0.005875                 0.021822   \n",
       "std                  0.144581            0.076421                 0.146105   \n",
       "min                  0.000000            0.000000                 0.000000   \n",
       "25%                  0.000000            0.000000                 0.000000   \n",
       "50%                  0.000000            0.000000                 0.000000   \n",
       "75%                  0.000000            0.000000                 0.000000   \n",
       "max                  1.000000            1.000000                 1.000000   \n",
       "\n",
       "       bonus_outlier  \n",
       "count   62642.000000  \n",
       "mean        0.016778  \n",
       "std         0.128439  \n",
       "min         0.000000  \n",
       "25%         0.000000  \n",
       "50%         0.000000  \n",
       "75%         0.000000  \n",
       "max         1.000000  "
      ]
     },
     "execution_count": 113,
     "metadata": {},
     "output_type": "execute_result"
    }
   ],
   "source": [
    "df[outlier_columns].describe()"
   ]
  },
  {
   "cell_type": "code",
   "execution_count": 114,
   "metadata": {},
   "outputs": [],
   "source": [
    "# Como hay muy pocos outliers, solo los eliminaremos\n",
    "df[\"outlier\"] = df[outlier_columns].sum(axis=1)\n",
    "df = df[df[\"outlier\"]==0].reset_index(drop=True).copy()"
   ]
  },
  {
   "cell_type": "code",
   "execution_count": 115,
   "metadata": {},
   "outputs": [
    {
     "data": {
      "text/plain": [
       "(58362, 13)"
      ]
     },
     "execution_count": 115,
     "metadata": {},
     "output_type": "execute_result"
    }
   ],
   "source": [
    "df = df.drop(outlier_columns+[\"outlier\"], axis=1).copy()\n",
    "df.shape"
   ]
  },
  {
   "cell_type": "code",
   "execution_count": 116,
   "metadata": {},
   "outputs": [
    {
     "data": {
      "text/plain": [
       "<AxesSubplot:>"
      ]
     },
     "execution_count": 116,
     "metadata": {},
     "output_type": "execute_result"
    },
    {
     "data": {
      "image/png": "[encoded data removed]",
      "text/plain": [
       "<Figure size 432x288 with 1 Axes>"
      ]
     },
     "metadata": {
      "needs_background": "light"
     },
     "output_type": "display_data"
    }
   ],
   "source": [
    "df.boxplot('totalyearlycompensation')"
   ]
  },
  {
   "cell_type": "markdown",
   "metadata": {},
   "source": [
    "# "
   ]
  },
  {
   "cell_type": "markdown",
   "metadata": {},
   "source": [
    "## Análisis exploratorio de datos (EDA)"
   ]
  },
  {
   "cell_type": "code",
   "execution_count": 118,
   "metadata": {},
   "outputs": [],
   "source": [
    "profile = pp.ProfileReport(df, title='Pandas Profiling Report', minimal=True)"
   ]
  },
  {
   "cell_type": "code",
   "execution_count": 120,
   "metadata": {},
   "outputs": [
    {
     "name": "stderr",
     "output_type": "stream",
     "text": [
      "Export report to file: 100%|██████████| 1/1 [00:00<00:00, 333.01it/s]\n"
     ]
    }
   ],
   "source": [
    "profile.to_file('../data/reports/Data_salary.html')"
   ]
  },
  {
   "cell_type": "markdown",
   "metadata": {},
   "source": [
    "#### Preguntas de exploración\n",
    "\n",
    "1. ¿En qué compañía facturan más los profesionales en ciencias de datos?\n",
    "2. ¿Cuál es % de personas que laboran de acuerdo a su nivel de educación?\n",
    "3. ¿Cuál es el % de participación por genero en este campo?"
   ]
  },
  {
   "cell_type": "code",
   "execution_count": null,
   "metadata": {},
   "outputs": [],
   "source": []
  }
 ],
 "metadata": {
  "interpreter": {
   "hash": "bbe86199946d6289c641ea8ccb62c5f8cf7d09c575ca05e3a02fa309c1259887"
  },
  "kernelspec": {
   "display_name": "Python 3.10.2 ('env': venv)",
   "language": "python",
   "name": "python3"
  },
  "language_info": {
   "codemirror_mode": {
    "name": "ipython",
    "version": 3
   },
   "file_extension": ".py",
   "mimetype": "text/x-python",
   "name": "python",
   "nbconvert_exporter": "python",
   "pygments_lexer": "ipython3",
   "version": "3.10.2"
  },
  "orig_nbformat": 4
 },
 "nbformat": 4,
 "nbformat_minor": 2
}
